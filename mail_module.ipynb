{
 "cells": [
  {
   "cell_type": "code",
   "execution_count": 1,
   "id": "c485683a-71ef-4b4b-8548-3735eabd9064",
   "metadata": {},
   "outputs": [],
   "source": [
    "from SendMail import send_mail\n",
    "\n",
    "from_addr = 'zmfwl123@gmail.com'\n",
    "to_addr = 'dlalsxo13@naver.com'\n",
    "subject = '테스트 12345' \n",
    "\n",
    "content = \"\"\"<html>\n",
    "  <head></head>\n",
    "  <body>\n",
    "    <h1>Hi!</h1>\n",
    "    <h2>How are you?</h2>\n",
    "    <p>\n",
    "        Here is the \n",
    "        <a href=\"http://www.python.org\">link</a> \n",
    "        you wanted.\n",
    "    </p>\n",
    "  </body>\n",
    "</html>\"\"\"\n",
    "\n",
    "files = [\"mail/hello.txt\", \"mail/world.txt\"]\n"
   ]
  },
  {
   "cell_type": "code",
   "execution_count": 2,
   "id": "202c120c-06c8-4d03-9e77-cb2b984e8e62",
   "metadata": {},
   "outputs": [],
   "source": [
    "send_mail(from_addr, to_addr, subject, content, files)"
   ]
  },
  {
   "cell_type": "code",
   "execution_count": null,
   "id": "ed3fb035-bfd9-45ed-b76d-0ee8f113fe31",
   "metadata": {},
   "outputs": [],
   "source": []
  }
 ],
 "metadata": {
  "kernelspec": {
   "display_name": "Python 3 (ipykernel)",
   "language": "python",
   "name": "python3"
  },
  "language_info": {
   "codemirror_mode": {
    "name": "ipython",
    "version": 3
   },
   "file_extension": ".py",
   "mimetype": "text/x-python",
   "name": "python",
   "nbconvert_exporter": "python",
   "pygments_lexer": "ipython3",
   "version": "3.9.7"
  }
 },
 "nbformat": 4,
 "nbformat_minor": 5
}
