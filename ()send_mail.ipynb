{
 "cells": [
  {
   "cell_type": "code",
   "execution_count": 46,
   "id": "9682008e-04fd-459c-9ddd-a1940add9ff0",
   "metadata": {},
   "outputs": [],
   "source": [
    "# -> 경로 정보를 취득하기 위한 모듈\n",
    "import os.path\n",
    "# -> 발송서버와 연동하기 위한 모듈\n",
    "from smtplib import SMTP\n",
    "# -> 본문 구성 기능\n",
    "from email.mime.text import MIMEText\n",
    "# -> 파일을 Multipart 형식으로 변환\n",
    "from email.mime.application import MIMEApplication\n",
    "# -> 파일을 본문에 추가하는 기능 제공\n",
    "from email.mime.multipart import MIMEMultipart\n",
    "\n",
    "def sendmail(from_addr, to_addr, suject, content, files=[]):"
   ]
  },
  {
   "cell_type": "code",
   "execution_count": 47,
   "id": "b16ffbd8-ad3d-4025-8bdb-c4485684f726",
   "metadata": {},
   "outputs": [],
   "source": [
    "content_type = \"html\"\n",
    "username = 'zmfwl123@gmail.com'\n",
    "password = 'shnucvzoelldrmev'\n",
    "smtp = 'smtp.gmail.com'\n",
    "port = 587\n",
    "from_addr = 'zmfwl123@gmail.com'\n",
    "to_addr = 'j.purplerose@gmail.com'\n",
    "subject = '빅데이터분석처리반_B조_이민태_메일실습'"
   ]
  },
  {
   "cell_type": "code",
   "execution_count": 48,
   "id": "0027ddac-53af-443e-af68-afc9c6907824",
   "metadata": {},
   "outputs": [],
   "source": [
    "files = []"
   ]
  },
  {
   "cell_type": "code",
   "execution_count": 49,
   "id": "8ca8e8ad-867a-428e-88b2-2148a45bbca3",
   "metadata": {},
   "outputs": [],
   "source": [
    "content = \"\"\"<html>\n",
    "  <head></head>\n",
    "  <body>\n",
    "    <h2>안녕하세요</h2>\n",
    "    <p>\n",
    "        현재 강의장에서 강의를 듣고있는 이민태입니다. <br>\n",
    "        가끔은 배운게 부족해서 그런지 설명을 듣고 곧바로 이해가 안될때도 있습니다.<br>\n",
    "        그럴때마다 질문드렸고 좀더 심도있는 내용의 답변을 주셔서 감사합니다.<br>\n",
    "        이 메일을 보내는 실습에서도 모르는게 많습니다.<br>\n",
    "        그렇기에 찾아보고 알아보고 재밌게 하려고 합니다.<br>\n",
    "        예전부터 진심으로 빅데이터와 관련하여 분석쪽으로 배우고 싶었고,<br>\n",
    "        이쪽방향으로 일을 해보고 싶기도 했습니다.<br>\n",
    "        그렇기에 현재 너무나 만족스럽게 배우고 있다 생각합니다.<br>\n",
    "        물론 아직 파이썬 프로그램만을 다루고 있지만<br>\n",
    "        앞으로의 강의를 기다리며 정진하려 합니다.<br>\n",
    "        앞으로도 부족하지만 많이 가르쳐주시면 감사하겠습니다.\n",
    "    </p>\n",
    "  </body>\n",
    "</html>\"\"\""
   ]
  },
  {
   "cell_type": "code",
   "execution_count": 50,
   "id": "ae8ff5f8-c080-4463-a3ee-f055721a617d",
   "metadata": {},
   "outputs": [],
   "source": [
    "msg = MIMEMultipart()\n",
    "\n",
    "msg['Subject'] = subject\n",
    "msg['From'] = from_addr\n",
    "msg['To'] = to_addr\n",
    "\n",
    "msg.attach(MIMEText(content, content_type))"
   ]
  },
  {
   "cell_type": "code",
   "execution_count": 51,
   "id": "82cc5530-90f9-453c-9e7f-c25ca1d170a9",
   "metadata": {},
   "outputs": [],
   "source": [
    "if files:\n",
    "    for f in files:\n",
    "        with open(f, 'rb') as a_file:\n",
    "            basename = os.path.basename(f)\n",
    "            part = MIMEApplication(a_file.read(), Name=basename)\n",
    "            \n",
    "            part['Content-Disposition'] = 'attachment; filename=\"%s\"' % basename"
   ]
  },
  {
   "cell_type": "code",
   "execution_count": 52,
   "id": "92f19bc9-4c52-4f2c-a4c5-9a2d8821c68c",
   "metadata": {},
   "outputs": [
    {
     "data": {
      "text/plain": [
       "(221, b'2.0.0 closing connection ip10sm5180795pjb.40 - gsmtp')"
      ]
     },
     "execution_count": 52,
     "metadata": {},
     "output_type": "execute_result"
    }
   ],
   "source": [
    "mail = SMTP(smtp)\n",
    "mail.ehlo()\n",
    "mail.starttls()\n",
    "mail.login(username, password)\n",
    "mail.sendmail(from_addr, to_addr, msg.as_string())\n",
    "mail.quit()"
   ]
  },
  {
   "cell_type": "code",
   "execution_count": null,
   "id": "e71e71af-2aa4-48d7-b280-140b9a9f7e7e",
   "metadata": {},
   "outputs": [],
   "source": []
  }
 ],
 "metadata": {
  "kernelspec": {
   "display_name": "Python 3 (ipykernel)",
   "language": "python",
   "name": "python3"
  },
  "language_info": {
   "codemirror_mode": {
    "name": "ipython",
    "version": 3
   },
   "file_extension": ".py",
   "mimetype": "text/x-python",
   "name": "python",
   "nbconvert_exporter": "python",
   "pygments_lexer": "ipython3",
   "version": "3.9.7"
  }
 },
 "nbformat": 4,
 "nbformat_minor": 5
}
