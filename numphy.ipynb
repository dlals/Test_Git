{
 "cells": [
  {
   "cell_type": "code",
   "execution_count": 1,
   "id": "0b5be024-a8ec-4266-b285-9025fbe54ec9",
   "metadata": {},
   "outputs": [],
   "source": [
    "import numpy"
   ]
  },
  {
   "cell_type": "code",
   "execution_count": 2,
   "id": "672fa1e3-61c3-49d5-b435-899888867da3",
   "metadata": {},
   "outputs": [
    {
     "name": "stdout",
     "output_type": "stream",
     "text": [
      "[1 3 5 7 9]\n"
     ]
    }
   ],
   "source": [
    "# numpy 배열 생성과 기본 활용\n",
    "\n",
    "# 리스트를 통한 1차원(1행으로 구성) 배열 만들기\n",
    "arr = numpy.array([1,3,5,7,9])\n",
    "print(arr)"
   ]
  },
  {
   "cell_type": "code",
   "execution_count": 3,
   "id": "5160719c-1d2d-48c4-9b91-66e4f7f93ba9",
   "metadata": {},
   "outputs": [
    {
     "name": "stdout",
     "output_type": "stream",
     "text": [
      "배열의 원소는 5개 입니다\n"
     ]
    }
   ],
   "source": [
    "#배열의 크기와 각 원소에 접근하기\n",
    "# 내장함수 len()은 모든 연속성 데이터 (문자열, 리스트, 튜플) 등에 사용가능\n",
    "\n",
    "size = len(arr)\n",
    "print(\"배열의 원소는 %d개 입니다\" % size)"
   ]
  },
  {
   "cell_type": "code",
   "execution_count": 4,
   "id": "72ac680d-4693-45ff-b540-dee02af0070f",
   "metadata": {},
   "outputs": [
    {
     "name": "stdout",
     "output_type": "stream",
     "text": [
      "1\n",
      "3\n",
      "7\n"
     ]
    }
   ],
   "source": [
    "#배열의 원소에 접근하기\n",
    "#리스트와 마찬가지로 각 원소에 인덱스 번호로 접근가능\n",
    "\n",
    "print(arr[0])\n",
    "print(arr[1])\n",
    "print(arr[3])"
   ]
  },
  {
   "cell_type": "code",
   "execution_count": 5,
   "id": "6c0ed5bf-fa21-4725-b6c8-c66f14483a24",
   "metadata": {},
   "outputs": [
    {
     "name": "stdout",
     "output_type": "stream",
     "text": [
      "0번째 원소 >> 1\n",
      "1번째 원소 >> 3\n",
      "2번째 원소 >> 5\n",
      "3번째 원소 >> 7\n",
      "4번째 원소 >> 9\n"
     ]
    }
   ],
   "source": [
    "for i, v in enumerate(arr):\n",
    "    print(\"%d번째 원소 >> %d\" % (i, v))"
   ]
  },
  {
   "cell_type": "code",
   "execution_count": null,
   "id": "03260d62-8351-4bfd-b6d0-c33d547579f1",
   "metadata": {},
   "outputs": [],
   "source": []
  }
 ],
 "metadata": {
  "kernelspec": {
   "display_name": "Python 3 (ipykernel)",
   "language": "python",
   "name": "python3"
  },
  "language_info": {
   "codemirror_mode": {
    "name": "ipython",
    "version": 3
   },
   "file_extension": ".py",
   "mimetype": "text/x-python",
   "name": "python",
   "nbconvert_exporter": "python",
   "pygments_lexer": "ipython3",
   "version": "3.9.7"
  }
 },
 "nbformat": 4,
 "nbformat_minor": 5
}
