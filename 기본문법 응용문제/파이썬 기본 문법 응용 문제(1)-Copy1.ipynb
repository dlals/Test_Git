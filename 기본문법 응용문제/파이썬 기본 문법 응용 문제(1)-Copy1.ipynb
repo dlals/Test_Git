{
 "cells": [
  {
   "cell_type": "markdown",
   "metadata": {},
   "source": [
    "# 파이썬 기본 문법 응용 문제 (1)"
   ]
  },
  {
   "cell_type": "markdown",
   "metadata": {},
   "source": [
    "----\n",
    "\n",
    "## 문제1\n",
    "\n",
    "2~10 사이의 숫자 x, y를 입력받은 후 1부터 100까지의 자연수 중에서 x와 y의 공배수를 모두 출력하고 총 합이 얼마인지 출력하시오."
   ]
  },
  {
   "cell_type": "code",
   "execution_count": 14,
   "metadata": {},
   "outputs": [
    {
     "name": "stdin",
     "output_type": "stream",
     "text": [
      "x를 입력하세요: 7\n",
      "y를 입력하세요: 3\n"
     ]
    },
    {
     "name": "stdout",
     "output_type": "stream",
     "text": [
      "21\n",
      "42\n",
      "63\n",
      "84\n",
      "7와 3의 공배수의 합:  210\n"
     ]
    }
   ],
   "source": [
    "x = int(input(\"x를 입력하세요:\"))\n",
    "y = int(input(\"y를 입력하세요:\"))\n",
    "z = 0\n",
    "for i in range(1, 101):\n",
    "    for j in range(1, 101):\n",
    "        if (i*x==j*y) and (x*i<101):\n",
    "            z+=x*i\n",
    "            print(x*i) \n",
    "print(\"%d와 %d의 공배수의 합:  %d\" % (x, y, z))"
   ]
  },
  {
   "cell_type": "markdown",
   "metadata": {},
   "source": [
    "---\n",
    "\n",
    "## 문제2\n",
    "\n",
    "하나의 정수 x를 입력받아 x개의 행을 출력하는 별찍기 프로그램을 작성하시오.\n",
    "\n",
    "- 첫 번째 행은 1개의 별을 출력하고, \n",
    "- 두 번재 행은 2개의 별을 출력하고,\n",
    "- x 번째 행은 x개의 별을 출력합니다."
   ]
  },
  {
   "cell_type": "code",
   "execution_count": 17,
   "metadata": {},
   "outputs": [
    {
     "name": "stdin",
     "output_type": "stream",
     "text": [
      "숫자를 입력하세요: 7\n"
     ]
    },
    {
     "name": "stdout",
     "output_type": "stream",
     "text": [
      "*\n",
      "**\n",
      "***\n",
      "****\n",
      "*****\n",
      "******\n",
      "*******\n"
     ]
    }
   ],
   "source": [
    "x = int(input(\"숫자를 입력하세요:\"))\n",
    "for i in range(1, x+1):\n",
    "    print(\"*\"*i)"
   ]
  },
  {
   "cell_type": "markdown",
   "metadata": {},
   "source": [
    "----\n",
    "\n",
    "## 문제3\n",
    "\n",
    "n개의 과목에 대한 점수를 입력하는 프로그램을 만들고자 한다.\n",
    "\n",
    "숫자 n을 입력 받아 n번 반복을 수행하면서 숫자를 입력받는다.\n",
    "\n",
    "반복문 안에서 입력받은 숫자는 data라는 리스트의 원소로 추가된다.\n",
    "\n",
    "이 리스트의 모든 원소에 대한 총합과 평균을 구하시오.\n",
    "\n",
    "(평균은 소수점 둘째 자리까지만 표시한다.)"
   ]
  },
  {
   "cell_type": "code",
   "execution_count": 27,
   "metadata": {},
   "outputs": [
    {
     "name": "stdin",
     "output_type": "stream",
     "text": [
      "원하는 과목의 수: 2\n",
      " 31\n",
      " 27\n"
     ]
    },
    {
     "name": "stdout",
     "output_type": "stream",
     "text": [
      "총합:58 평균:29.00\n"
     ]
    }
   ],
   "source": [
    "n = int(input(\"원하는 과목의 수:\"))\n",
    "data = []\n",
    "y = 0\n",
    "for i in range(0, n):\n",
    "    x = int(input())\n",
    "    data.append(x)\n",
    "    y += x\n",
    "z = y/n\n",
    "print(\"총합:%d 평균:%0.2f\" %(y, z))"
   ]
  },
  {
   "cell_type": "markdown",
   "metadata": {},
   "source": [
    "---\n",
    "\n",
    "## 문제4\n",
    "\n",
    "`n`개의 숫자를 입력받아서 리스트에 원소로 추가한 후 그 숫자들 중에서 가장 큰 값을 구하는 프로그램을 작성하시오.\n",
    "\n",
    "단, 최대값은 `max()`함수를 사용하지 않고 반복문을 통해 직접 구해야 합니다."
   ]
  },
  {
   "cell_type": "code",
   "execution_count": 35,
   "metadata": {},
   "outputs": [
    {
     "name": "stdin",
     "output_type": "stream",
     "text": [
      "숫자를 입력하세요: 5\n",
      "1번째 숫자를 입력하세요 49\n",
      "2번째 숫자를 입력하세요 56\n",
      "3번째 숫자를 입력하세요 2\n",
      "4번째 숫자를 입력하세요 46\n",
      "5번째 숫자를 입력하세요 33\n"
     ]
    },
    {
     "name": "stdout",
     "output_type": "stream",
     "text": [
      "56\n"
     ]
    }
   ],
   "source": [
    "n = int(input(\"숫자를 입력하세요:\"))\n",
    "num = []\n",
    "y = 0\n",
    "for i in range(0, n):\n",
    "    x = int(input(\"%d번째 숫자를 입력하세요\"% (i+1)))\n",
    "    num.append(x)\n",
    "for j in num:\n",
    "    if y < j:\n",
    "        y = j\n",
    "print(y)"
   ]
  },
  {
   "cell_type": "markdown",
   "metadata": {},
   "source": [
    "---\n",
    "\n",
    "## 문제5\n",
    "\n",
    "`n`개의 숫자를 입력받아서 리스트에 원소로 추가한 후 그 숫자를 오름차순으로 정렬한 결과를 출력하는 프로그램을 작성하시오.\n",
    "\n",
    "단, 정렬은 `sort()`함수를 사용하지 않고 반복문을 통해 직접 처리해야 합니다."
   ]
  },
  {
   "cell_type": "code",
   "execution_count": 37,
   "metadata": {},
   "outputs": [
    {
     "name": "stdin",
     "output_type": "stream",
     "text": [
      "숫자를 입력하세요: 3\n",
      "1번째 숫자를 입력하세요 99\n",
      "2번째 숫자를 입력하세요 13\n",
      "3번째 숫자를 입력하세요 52\n"
     ]
    },
    {
     "name": "stdout",
     "output_type": "stream",
     "text": [
      "[13, 52, 99]\n"
     ]
    }
   ],
   "source": [
    "n = int(input(\"숫자를 입력하세요:\"))\n",
    "send = []\n",
    "for i in range(0, n):\n",
    "    x = int(input(\"%d번째 숫자를 입력하세요\" % (i+1)))\n",
    "    send.append(x)\n",
    "for j in range(0, n-1):\n",
    "    for k in range(j+1, n):\n",
    "        if send[j]>send[k]:\n",
    "            send[j],send[k]=send[k],send[j]\n",
    "print(send)"
   ]
  },
  {
   "cell_type": "code",
   "execution_count": null,
   "metadata": {},
   "outputs": [],
   "source": []
  }
 ],
 "metadata": {
  "kernelspec": {
   "display_name": "Python 3 (ipykernel)",
   "language": "python",
   "name": "python3"
  },
  "language_info": {
   "codemirror_mode": {
    "name": "ipython",
    "version": 3
   },
   "file_extension": ".py",
   "mimetype": "text/x-python",
   "name": "python",
   "nbconvert_exporter": "python",
   "pygments_lexer": "ipython3",
   "version": "3.9.7"
  }
 },
 "nbformat": 4,
 "nbformat_minor": 4
}
