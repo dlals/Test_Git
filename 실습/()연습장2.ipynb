{
 "cells": [
  {
   "cell_type": "code",
   "execution_count": 9,
   "id": "a2fdbb3d-7a65-4c11-888c-e0f1b5058677",
   "metadata": {},
   "outputs": [
    {
     "name": "stdout",
     "output_type": "stream",
     "text": [
      "python1, python2 디렉토리가 삭제되었습니다.\n"
     ]
    }
   ],
   "source": [
    "import os\n",
    "import shutil as sh\n",
    "\n",
    "if os.path.exists('python1') == False and os.path.exists('python2') == False:\n",
    "    os.makedirs('python/test/hello/world', exist_ok = True)\n",
    "    print('python디렉토리 및 하위 디렉토리의 생성 완료')\n",
    "    \n",
    "    if os.path.exists('python1') == False:\n",
    "        sh.move('python', 'python1')\n",
    "        print('python디렉토리가 python1디렉토리로 이동되었습니다.')\n",
    "    \n",
    "else:\n",
    "    sh.rmtree('python1')\n",
    "    print('python1, python2 디렉토리가 삭제되었습니다.')\n",
    "        "
   ]
  },
  {
   "cell_type": "code",
   "execution_count": 34,
   "id": "1d8c2096-fa98-4460-a64e-e6b3f221442f",
   "metadata": {},
   "outputs": [
    {
     "name": "stdout",
     "output_type": "stream",
     "text": [
      "2021-10-13 13:37:24.063074\n",
      "2021, 10, 13\n"
     ]
    }
   ],
   "source": [
    "import datetime as dt\n",
    "now_time = dt.datetime.now()\n",
    "print(now_time)\n",
    "msg = \"%d, %d, %d\"\n",
    "print(msg % (now_time.year, now_time.month, now_time.day))"
   ]
  },
  {
   "cell_type": "code",
   "execution_count": 38,
   "id": "df072a9e-df28-4610-abfa-323bb8f96169",
   "metadata": {},
   "outputs": [
    {
     "name": "stdout",
     "output_type": "stream",
     "text": [
      "21/10/13 13:37:24\n"
     ]
    }
   ],
   "source": [
    "#치환자 대.소문자 주의(다르면 inavled 오류나옴)\n",
    "print(now_time.strftime(\"%y/%m/%d %H:%M:%S\"))"
   ]
  },
  {
   "cell_type": "code",
   "execution_count": 1,
   "id": "02e9c2cf-9f26-40cd-a934-23cc365ca671",
   "metadata": {},
   "outputs": [
    {
     "name": "stdout",
     "output_type": "stream",
     "text": [
      "['이름', '국어', '영어', '수학', '과학']\n"
     ]
    }
   ],
   "source": [
    "#for문을 이용하여 아래의 grade_dic이라는 딕셔너리를 아래 grade_list와 같은 형식으로 변환하시오\n",
    "grade_dic = {\n",
    "    '이름': ['철수', '영희', '민철', '수현', '호영'],\n",
    "    '국어': [98, 88, 92, 63, 120],\n",
    "    '영어': [76, 90, 70, 60, 50],\n",
    "    '수학': [88, 62, 88, 31, 76],\n",
    "    '과학': [64, 72, 45, 70, 88]\n",
    "}\n",
    "\n",
    "grade_key = list(grade_dic.keys())\n",
    "for i in grade_key:\n",
    "    for j in range(0, len(grade_key)):\n",
    "        grade[i] = grade_dic['이름'][j]"
   ]
  },
  {
   "cell_type": "code",
   "execution_count": 1,
   "id": "cfc6e98b-7e1c-4bb0-9342-39cb88495bcf",
   "metadata": {},
   "outputs": [
    {
     "name": "stdout",
     "output_type": "stream",
     "text": [
      "a1234\n"
     ]
    }
   ],
   "source": [
    "print('a1234')"
   ]
  },
  {
   "cell_type": "code",
   "execution_count": null,
   "id": "ae3feb19-c6d3-4375-b75d-47084ab16916",
   "metadata": {},
   "outputs": [],
   "source": []
  }
 ],
 "metadata": {
  "kernelspec": {
   "display_name": "Python 3 (ipykernel)",
   "language": "python",
   "name": "python3"
  },
  "language_info": {
   "codemirror_mode": {
    "name": "ipython",
    "version": 3
   },
   "file_extension": ".py",
   "mimetype": "text/x-python",
   "name": "python",
   "nbconvert_exporter": "python",
   "pygments_lexer": "ipython3",
   "version": "3.9.7"
  }
 },
 "nbformat": 4,
 "nbformat_minor": 5
}
