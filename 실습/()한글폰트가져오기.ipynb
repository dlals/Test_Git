{
 "cells": [
  {
   "cell_type": "code",
   "execution_count": 2,
   "id": "543ed9d0-1b20-41ff-b4fa-8ad16b9d2116",
   "metadata": {},
   "outputs": [],
   "source": [
    "from matplotlib import font_manager\n",
    "font_list = font_manager.findSystemFonts()"
   ]
  },
  {
   "cell_type": "code",
   "execution_count": null,
   "id": "b5b09f07-5ea5-4d51-a8b1-2efc6bb7ef62",
   "metadata": {},
   "outputs": [],
   "source": []
  }
 ],
 "metadata": {
  "kernelspec": {
   "display_name": "Python 3 (ipykernel)",
   "language": "python",
   "name": "python3"
  },
  "language_info": {
   "codemirror_mode": {
    "name": "ipython",
    "version": 3
   },
   "file_extension": ".py",
   "mimetype": "text/x-python",
   "name": "python",
   "nbconvert_exporter": "python",
   "pygments_lexer": "ipython3",
   "version": "3.9.7"
  }
 },
 "nbformat": 4,
 "nbformat_minor": 5
}
