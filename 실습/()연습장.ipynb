{
 "cells": [
  {
   "cell_type": "code",
   "execution_count": 4,
   "id": "2336a1ef-6440-49da-aa47-f5bd89f29704",
   "metadata": {},
   "outputs": [
    {
     "name": "stdout",
     "output_type": "stream",
     "text": [
      "dd\n",
      "123\n"
     ]
    }
   ],
   "source": [
    "def say_hello():\n",
    "    print(\"dd\")\n",
    "    print(\"123\")\n",
    "say_hello()"
   ]
  },
  {
   "cell_type": "code",
   "execution_count": 5,
   "id": "8ed0d32a-9e73-4da0-95aa-56b3cc2f6077",
   "metadata": {},
   "outputs": [
    {
     "name": "stdout",
     "output_type": "stream",
     "text": [
      "dd\n",
      "123\n"
     ]
    }
   ],
   "source": [
    "say_hello()"
   ]
  },
  {
   "cell_type": "code",
   "execution_count": 9,
   "id": "4eab7162-3835-4d4c-87f2-68cf8ce13388",
   "metadata": {},
   "outputs": [
    {
     "name": "stdout",
     "output_type": "stream",
     "text": [
      "hello1 1 2 3\n"
     ]
    }
   ],
   "source": [
    "def fof(x, y):\n",
    "    z = x + y\n",
    "    tpl = \"hello{0} {0} {1} {2}\"\n",
    "    print(tpl.format(x, y, z))\n",
    "fof(1, 2)"
   ]
  },
  {
   "cell_type": "code",
   "execution_count": 37,
   "id": "88899ddd-0045-4249-9cd0-de42cbc12110",
   "metadata": {},
   "outputs": [],
   "source": [
    "def id_check(user_id = None):\n",
    "    member_list = ['id1', 'id2', 'id3']\n",
    "    \n",
    "    if not user_id:\n",
    "        return\n",
    "    \n",
    "    if user_id in member_list:\n",
    "        print(\"%s는 이미 존재하는 아이디입니다.\" % user_id)\n",
    "    else:\n",
    "        print(\"%s는 사용가능한 아이디입니다.\" % user_id)"
   ]
  },
  {
   "cell_type": "code",
   "execution_count": 38,
   "id": "c4e50ec2-f14f-4ac3-af27-c7902916f7c3",
   "metadata": {},
   "outputs": [],
   "source": [
    "id_check()"
   ]
  },
  {
   "cell_type": "code",
   "execution_count": 41,
   "id": "fe57ef92-df43-48ab-9968-368ee655e9fc",
   "metadata": {},
   "outputs": [
    {
     "name": "stdout",
     "output_type": "stream",
     "text": [
      "123456\n"
     ]
    }
   ],
   "source": [
    "print(end = \"123\")\n",
    "print(456)"
   ]
  },
  {
   "cell_type": "code",
   "execution_count": 47,
   "id": "0809fb59-4777-4bf8-b551-ba5c7b9a1e38",
   "metadata": {},
   "outputs": [
    {
     "name": "stdout",
     "output_type": "stream",
     "text": [
      "<class 'dict'>\n",
      "True\n"
     ]
    }
   ],
   "source": [
    "a = {\"b\" : [\"c\", \"d\"]}\n",
    "print(type(a))\n",
    "k = isinstance(a, dict)\n",
    "print(k)"
   ]
  },
  {
   "cell_type": "code",
   "execution_count": 48,
   "id": "3257aa17-3f12-4b99-879d-3dab711c55bd",
   "metadata": {},
   "outputs": [
    {
     "name": "stdout",
     "output_type": "stream",
     "text": [
      "256\n"
     ]
    }
   ],
   "source": [
    " a = pow(2, 8)\n",
    "print(a)"
   ]
  },
  {
   "cell_type": "code",
   "execution_count": 57,
   "id": "038fece3-fce1-45f8-94d2-02f3a3913266",
   "metadata": {},
   "outputs": [
    {
     "name": "stdout",
     "output_type": "stream",
     "text": [
      "[4, 2, 3]\n",
      "[1, 2, 3]\n"
     ]
    }
   ],
   "source": [
    "a = [1, 2, 3]\n",
    "b = list(a)\n",
    "a[0] = 4\n",
    "print(a)\n",
    "print(b)"
   ]
  },
  {
   "cell_type": "code",
   "execution_count": 58,
   "id": "9d18503a-37e0-4d6c-b868-b1df84353bd2",
   "metadata": {},
   "outputs": [
    {
     "name": "stdout",
     "output_type": "stream",
     "text": [
      "[4, 2, 3]\n",
      "[4, 2, 3]\n"
     ]
    }
   ],
   "source": [
    "a = [1, 2, 3]\n",
    "b = a\n",
    "a[0] = 4\n",
    "print(a)\n",
    "print(b)"
   ]
  },
  {
   "cell_type": "code",
   "execution_count": 59,
   "id": "a85519b1-eaf1-4de6-a0d5-88f44edfb97b",
   "metadata": {},
   "outputs": [
    {
     "name": "stdout",
     "output_type": "stream",
     "text": [
      "[1, 2, 3, 4, 8]\n"
     ]
    }
   ],
   "source": [
    "data = [4, 2, 3, 1, 8]\n",
    "data.sort()\n",
    "print(data)"
   ]
  },
  {
   "cell_type": "code",
   "execution_count": 62,
   "id": "5ca2b1e9-9647-4baa-8673-aafb5df5f82d",
   "metadata": {},
   "outputs": [
    {
     "name": "stdout",
     "output_type": "stream",
     "text": [
      "[1, 2, 3, 4, 8]\n",
      "[1, 2, 3, 4, 8]\n"
     ]
    }
   ],
   "source": [
    "h = sorted(data)\n",
    "print(h)\n",
    "print(data)"
   ]
  },
  {
   "cell_type": "code",
   "execution_count": 104,
   "id": "7e62f5ad-d540-4eed-ba38-4f519cc78cca",
   "metadata": {},
   "outputs": [
    {
     "name": "stdin",
     "output_type": "stream",
     "text": [
      " 1 2 3\n"
     ]
    },
    {
     "name": "stdout",
     "output_type": "stream",
     "text": [
      "6 3.00\n"
     ]
    }
   ],
   "source": [
    "a, b, c = map(int, input().split(\" \"))\n",
    "s = a+b+c\n",
    "print(s, '%0.2f' % (s/2))"
   ]
  },
  {
   "cell_type": "code",
   "execution_count": 117,
   "id": "2f94f64f-aa16-4f76-9daf-7991c6c1cfd3",
   "metadata": {},
   "outputs": [
    {
     "ename": "IndentationError",
     "evalue": "expected an indented block (Temp/ipykernel_11880/1983365779.py, line 3)",
     "output_type": "error",
     "traceback": [
      "\u001b[1;36m  File \u001b[1;32m\"C:\\Users\\dlals\\AppData\\Local\\Temp/ipykernel_11880/1983365779.py\"\u001b[1;36m, line \u001b[1;32m3\u001b[0m\n\u001b[1;33m    elif a<b:\u001b[0m\n\u001b[1;37m    ^\u001b[0m\n\u001b[1;31mIndentationError\u001b[0m\u001b[1;31m:\u001b[0m expected an indented block\n"
     ]
    }
   ],
   "source": [
    "a, b = map(int, input().split(\" \"))\n",
    "if False:\n",
    "elif a<b:\n",
    "    "
   ]
  },
  {
   "cell_type": "code",
   "execution_count": 131,
   "id": "62047352-4f95-48b0-8025-f9d210ec2b70",
   "metadata": {},
   "outputs": [],
   "source": [
    "f = open(\"helloworld.txt\", \"w\", encoding = 'utf=8')\n",
    "\n",
    "f.write(\"Hello Python!!\\n\")\n",
    "f.write(\"안녕하세요. 파이썬!!!\\n\")\n",
    "\n",
    "f.close()"
   ]
  },
  {
   "cell_type": "code",
   "execution_count": 132,
   "id": "6777ea6a-4914-475c-a2ac-a5e7331ba672",
   "metadata": {},
   "outputs": [
    {
     "name": "stdout",
     "output_type": "stream",
     "text": [
      "Hello Python!!\n",
      "안녕하세요. 파이썬!!!\n",
      "\n"
     ]
    }
   ],
   "source": [
    "f = open(\"helloworld.txt\", \"r\", encoding = 'utf-8')\n",
    "\n",
    "data = f.read()\n",
    "print(data)\n",
    "\n",
    "f.close()"
   ]
  },
  {
   "cell_type": "code",
   "execution_count": 134,
   "id": "48789488-eef5-4b2a-948f-afc1ff69432b",
   "metadata": {},
   "outputs": [
    {
     "name": "stdout",
     "output_type": "stream",
     "text": [
      "['Hello Python!!\\n', '안녕하세요. 파이썬!!!\\n']\n",
      "------------------------------\n",
      "읽어들인 데이터는 총 2줄 입니다.\n",
      "------------------------------\n",
      "Hello Python!!\n",
      "\n",
      "안녕하세요. 파이썬!!!\n",
      "\n"
     ]
    }
   ],
   "source": [
    "with open(\"helloworld.txt\", \"r\", encoding = 'utf-8') as f:\n",
    "    lines = f.readlines()\n",
    "    print(lines)\n",
    "    print(\"-\"*30)\n",
    "    \n",
    "    size = len(lines)\n",
    "    print(\"읽어들인 데이터는 총 %d줄 입니다.\" % size)\n",
    "    print(\"-\" * 30)\n",
    "    \n",
    "    for i in lines:\n",
    "        print( i )"
   ]
  },
  {
   "cell_type": "code",
   "execution_count": 135,
   "id": "37ff5363-b847-48b6-80c3-0e099b25a700",
   "metadata": {},
   "outputs": [
    {
     "name": "stdout",
     "output_type": "stream",
     "text": [
      "hello\n",
      "\n",
      "python\n"
     ]
    }
   ],
   "source": [
    "print(\"hello\\n\")\n",
    "print(\"python\")"
   ]
  },
  {
   "cell_type": "code",
   "execution_count": 136,
   "id": "1b17c6ff-7389-442d-bd79-5e17ddcd8c71",
   "metadata": {},
   "outputs": [],
   "source": [
    "grade = [\n",
    "    {\"name\": \"철수\", \"kor\": 95, \"eng\": 88, \"math\": 72},\n",
    "    {\"name\": \"영희\", \"kor\": 92, \"eng\": 90, \"math\": 95},\n",
    "    {\"name\": \"철민\", \"kor\": 88, \"eng\": 76, \"math\": 64}\n",
    "]\n",
    "\n",
    "tpl = \"{0},{1},{2},{3}\\n\""
   ]
  },
  {
   "cell_type": "code",
   "execution_count": 138,
   "id": "8e767e75-8b98-4f7f-ab25-83fd101812da",
   "metadata": {},
   "outputs": [],
   "source": [
    "with open(\"grade.csv\", \"w\", encoding='euc-kr') as f:\n",
    "    f.write(\"이름,국어,영어,수학\\n\")\n",
    "    \n",
    "    for i in grade:\n",
    "        tml = tpl.format(i[\"name\"], i[\"kor\"], i[\"eng\"], i[\"math\"])\n",
    "        f.write(tml)\n",
    "        "
   ]
  },
  {
   "cell_type": "code",
   "execution_count": 141,
   "id": "19e2837c-8f84-4c04-8952-5765b4b3d7c8",
   "metadata": {},
   "outputs": [
    {
     "name": "stdout",
     "output_type": "stream",
     "text": [
      "['이름,국어,영어,수학\\n', '철수,95,88,72\\n', '영희,92,90,95\\n', '철민,88,76,64\\n']\n"
     ]
    }
   ],
   "source": [
    "csv_list = None\n",
    "\n",
    "with open(\"grade.csv\" , \"r\", encoding='euc-kr') as f:\n",
    "    csv_list = f.readlines()\n",
    "print(csv_list)"
   ]
  },
  {
   "cell_type": "code",
   "execution_count": 144,
   "id": "683b5857-8be2-4e25-8162-8f22e7c7e05b",
   "metadata": {},
   "outputs": [
    {
     "name": "stdout",
     "output_type": "stream",
     "text": [
      "철수의 국영수 점수는 95,88,72점이며 평균은 85점 입니다.\n",
      "영희의 국영수 점수는 92,90,95점이며 평균은 92점 입니다.\n",
      "철민의 국영수 점수는 88,76,64점이며 평균은 76점 입니다.\n"
     ]
    }
   ],
   "source": [
    "for i, line in enumerate(csv_list):\n",
    "    if i == 0:\n",
    "        continue\n",
    "        \n",
    "    item = line.strip().split(\",\")\n",
    "    \n",
    "    name = item[0]\n",
    "    kor = int(item[1])\n",
    "    eng = int(item[2])\n",
    "    math = int(item[3])\n",
    "    total = kor+eng+math\n",
    "    avg = total // 3\n",
    "    spk = \"{0}의 국영수 점수는 {1},{2},{3}점이며 평균은 {4}점 입니다.\"\n",
    "    print(spk.format(name, kor, eng, math, avg))"
   ]
  },
  {
   "cell_type": "code",
   "execution_count": 145,
   "id": "79b4f74a-04de-4305-a14c-0fcd2e028f79",
   "metadata": {},
   "outputs": [],
   "source": [
    "grade_dic = {\n",
    "    '이름': ['철수', '영희', '민철', '수현', '호영'],\n",
    "    '국어': [98, 88, 92, 63, 120],\n",
    "    '영어': [76, 90, 70, 60, 50],\n",
    "    '수학': [88, 62, 88, 31, 76],\n",
    "    '과학': [64, 72, 45, 70, 88]\n",
    "}\n",
    "\n",
    "tmp = \"{0},{1},{2},{3},{4}\\n\""
   ]
  },
  {
   "cell_type": "code",
   "execution_count": 149,
   "id": "bf51301e-0159-4ec6-acdb-e9e2076570e1",
   "metadata": {},
   "outputs": [],
   "source": [
    "grade_key = grade_dic.keys()\n",
    "p = \",\"\n",
    "title = p.join(grade_key)\n",
    "\n",
    "with open(\"grade2.csv\", \"w\", encoding = 'euc-kr') as d:\n",
    "    d.write(title + \"\\n\")\n",
    "    \n",
    "    for i in range(0, len(grade_dic['이름'])):\n",
    "        tpl = tmp.format(grade_dic['이름'][i],grade_dic['국어'][i],grade_dic['영어'][i],\n",
    "                         grade_dic['수학'][i],grade_dic['과학'][i])\n",
    "        d.write( tpl )"
   ]
  },
  {
   "cell_type": "code",
   "execution_count": 168,
   "id": "3b8b2a04-599f-49a8-a63f-369feb1a9d3c",
   "metadata": {},
   "outputs": [],
   "source": [
    "class unit:\n",
    "    name = None\n",
    "    hp = None\n",
    "    dps = None\n",
    "    \n",
    "    def __init__(self, name, hp, dps):\n",
    "        self.name = name\n",
    "        self.hp = hp\n",
    "        self.dps = dps\n",
    "        print(\"[%s] hp : %d / dps : %d\" % (name, hp, dps))\n",
    "    \n",
    "    def move(self, area):\n",
    "        print(\"[%s]는(은) %s(으)로 이동합니다.\" % (self.name,area))\n",
    "    def attack(self, target):\n",
    "        print(\"[%s]는(은) %s를(을) %d 만큼 공격합니다.\" % (self.name, target, self.dps))"
   ]
  },
  {
   "cell_type": "code",
   "execution_count": 169,
   "id": "da86e3cc-1882-4c69-9ac9-e782feafb0a6",
   "metadata": {},
   "outputs": [
    {
     "name": "stdout",
     "output_type": "stream",
     "text": [
      "[질럿1] hp : 150 / dps : 20\n",
      "[질럿2] hp : 160 / dps : 15\n"
     ]
    }
   ],
   "source": [
    "un1 = unit(\"질럿1\", 150, 20)\n",
    "un2 = unit(\"질럿2\", 160, 15)"
   ]
  },
  {
   "cell_type": "code",
   "execution_count": 171,
   "id": "446b497f-dcf6-4c8a-8799-5f66b5aeb6ef",
   "metadata": {},
   "outputs": [
    {
     "name": "stdout",
     "output_type": "stream",
     "text": [
      "[질럿1]는(은) 적본진(으)로 이동합니다.\n",
      "[질럿2]는(은) 적의 멀티를(을) 15 만큼 공격합니다.\n"
     ]
    }
   ],
   "source": [
    "un1.move(\"적본진\")\n",
    "un2.attack(\"적의 멀티\")"
   ]
  },
  {
   "cell_type": "code",
   "execution_count": 172,
   "id": "aec6e368-c2b8-4812-9a77-4cb2e90deb35",
   "metadata": {},
   "outputs": [],
   "source": [
    "grade_dic = {\n",
    "    '이름': ['철수', '영희', '민철', '수현', '호영'],\n",
    "    '국어': [98, 88, 92, 63, 120],\n",
    "    '영어': [76, 90, 70, 60, 50],\n",
    "    '수학': [88, 62, 88, 31, 76],\n",
    "    '과학': [64, 72, 45, 70, 88]\n",
    "}\n",
    "tpl = \"{0}\\n\""
   ]
  },
  {
   "cell_type": "code",
   "execution_count": 183,
   "id": "d40972f3-8e34-4ec6-b6b0-304ab98ccbf6",
   "metadata": {},
   "outputs": [],
   "source": [
    "#키값(과목)이 수없이 많다고 가정하고 만들어보자\n",
    "# 하나의 문자열안에 , 를 넣어서 열을 나누어 줘야함.\n",
    "#문자열의 마지막에 \\n을 넣어서 다음 행으로 넘겨야함\n",
    "with open(\"grade.csv\", \"w\", encoding = 'euc-kr') as z:\n",
    "    a = list(grade_dic.keys())\n",
    "    for i in a:\n",
    "        b = \"\"\n",
    "        for j in range(0, len(grade_dic['이름'])):\n",
    "            b += str(grade_dic[i][j])\n",
    "        tmp = tpl.format,b\n",
    "        z.write(b)"
   ]
  },
  {
   "cell_type": "code",
   "execution_count": 1,
   "id": "34e1711a-467a-4bd1-91d3-21e32c38cd40",
   "metadata": {},
   "outputs": [],
   "source": [
    "import sys\n",
    "import os"
   ]
  },
  {
   "cell_type": "code",
   "execution_count": 2,
   "id": "acaaaaef-ef96-48d6-91b9-24cdd6be976b",
   "metadata": {},
   "outputs": [
    {
     "data": {
      "text/plain": [
       "'win32'"
      ]
     },
     "execution_count": 2,
     "metadata": {},
     "output_type": "execute_result"
    }
   ],
   "source": [
    "sys.platform"
   ]
  },
  {
   "cell_type": "code",
   "execution_count": 4,
   "id": "0d095b54-4955-4856-be16-4392e78ca3d4",
   "metadata": {},
   "outputs": [
    {
     "data": {
      "text/plain": [
       "'C:\\\\WINDOWS\\\\system32\\\\Adu_Python'"
      ]
     },
     "execution_count": 4,
     "metadata": {},
     "output_type": "execute_result"
    }
   ],
   "source": [
    "os.getcwd()"
   ]
  },
  {
   "cell_type": "code",
   "execution_count": 5,
   "id": "0929e301-daac-48bb-87a9-37072d63a208",
   "metadata": {},
   "outputs": [
    {
     "data": {
      "text/plain": [
       "1"
      ]
     },
     "execution_count": 5,
     "metadata": {},
     "output_type": "execute_result"
    }
   ],
   "source": [
    "path = os.getcwd()\n",
    "\n",
    "if sys.platform == 'win32':\n",
    "    command = 'explorer %s' % path\n",
    "else:\n",
    "    command = 'open %s' % path\n",
    "\n",
    "os.system(command)"
   ]
  },
  {
   "cell_type": "code",
   "execution_count": 8,
   "id": "d5e18e40-911a-43f3-9f8f-5790442da3f1",
   "metadata": {},
   "outputs": [
    {
     "name": "stdout",
     "output_type": "stream",
     "text": [
      "['.ipynb_checkpoints', '01-변수의_이해.ipynb', '02-연산자.ipynb', '03-문자열.ipynb', '04-문자열_포메팅.ipynb', '05-문자열함수.ipynb', '06-리스트.ipynb', '07-딕셔너리.ipynb', '08-조건문.ipynb', '09-반복문(1)-while.ipynb', '10-반복문(2)-for.ipynb', '11-변수의_특성.ipynb', '12-문법의_중첩사용.ipynb', '13-자주_등장하는_반복문_예제_패턴.ipynb', '14-함수.ipynb', '15-내장함수.ipynb', '16-파일입출력.ipynb', '17-CSV입출력.ipynb', '18-클래스,객체(1).ipynb', '19-클래스,객체(2).ipynb', '20-모듈의_이해.ipynb', '21-내장모듈.ipynb', '22-날짜처리.ipynb', 'grade.csv', 'grade2.csv', 'helloworld.txt', 'my_mod1.py', 'my_mod2.py', 'my_mod3.py', '__pycache__', '기본문법 응용문제', '연습장.ipynb', '중간점검 연습문제']\n"
     ]
    }
   ],
   "source": [
    "ls = os.listdir('./')\n",
    "print(ls)"
   ]
  },
  {
   "cell_type": "code",
   "execution_count": 9,
   "id": "517f3865-ef3c-4a77-9ca8-6171d835a380",
   "metadata": {},
   "outputs": [
    {
     "name": "stdout",
     "output_type": "stream",
     "text": [
      "['helloworld.txt']\n"
     ]
    }
   ],
   "source": [
    "import glob as gl\n",
    "file_list = gl.glob(\"*.txt\")\n",
    "print(file_list)"
   ]
  },
  {
   "cell_type": "code",
   "execution_count": 10,
   "id": "4c196314-f001-4795-bda7-58a0ef684b55",
   "metadata": {},
   "outputs": [
    {
     "data": {
      "text/plain": [
       "'C:\\\\WINDOWS\\\\system32\\\\python.txt'"
      ]
     },
     "execution_count": 10,
     "metadata": {},
     "output_type": "execute_result"
    }
   ],
   "source": [
    "import shutil as sh\n",
    "sh.move(\"C:\\\\WINDOWS\\\\system32\\\\Adu_Python\\helloworld.txt\", \"C:\\\\WINDOWS\\\\system32\\python.txt\")"
   ]
  },
  {
   "cell_type": "code",
   "execution_count": 11,
   "id": "5c10d315-e300-4c16-8538-7857975398c4",
   "metadata": {},
   "outputs": [
    {
     "data": {
      "text/plain": [
       "'기본문법 응용문제(1)'"
      ]
     },
     "execution_count": 11,
     "metadata": {},
     "output_type": "execute_result"
    }
   ],
   "source": [
    "sh.copytree(\"기본문법 응용문제\", \"기본문법 응용문제(1)\")"
   ]
  },
  {
   "cell_type": "code",
   "execution_count": 10,
   "id": "ceb53183-d4ab-4c5b-9659-e7b7af33450c",
   "metadata": {},
   "outputs": [],
   "source": [
    "# 저장을 위한 자료구조 정의\n",
    "grade_dic = {\n",
    "    '이름': ['철수', '영희', '민철', '수현', '호영'],\n",
    "    '국어': [98, 88, 92, 63, 120],\n",
    "    '영어': [76, 90, 70, 60, 50],\n",
    "    '수학': [88, 62, 88, 31, 76],\n",
    "    '과학': [64, 72, 45, 70, 88]\n",
    "}\n",
    "\n",
    "# 한 줄에 대한 템플릿\n",
    "tpl = \"{0},{1},{2},{3},{4}\\n\""
   ]
  },
  {
   "cell_type": "code",
   "execution_count": 15,
   "id": "0520f725-75db-4386-ae5b-83eb617d9623",
   "metadata": {},
   "outputs": [],
   "source": [
    "keys = list(grade_dic.keys())\n",
    "tmp = \"\"\n",
    "with open(\"test.csv\", \"w\", encoding='euc-kr') as f:\n",
    "    for i in keys:\n",
    "        tmp = tpl.format(grade_dic[i][0],grade_dic[i][1],grade_dic[i][2],grade_dic[i][3],grade_dic[i][4])\n",
    "        f.write(i+\",\"+tmp)\n",
    "    "
   ]
  },
  {
   "cell_type": "code",
   "execution_count": 14,
   "id": "bbd97c4f-b29a-4fcd-a84b-2aed15f7e05f",
   "metadata": {},
   "outputs": [
    {
     "name": "stdout",
     "output_type": "stream",
     "text": [
      "['이름', '국어', '영어', '수학', '과학']\n"
     ]
    }
   ],
   "source": [
    "keys = list(grade_dic.keys())\n",
    "print(keys)"
   ]
  },
  {
   "cell_type": "code",
   "execution_count": null,
   "id": "2bdc6bd1-38a9-4c19-8443-028c33300557",
   "metadata": {},
   "outputs": [],
   "source": [
    "#카카오뱅크 연 이자율 1.98퍼센트\n",
    "#내 초기자금 1000만원\n",
    "#input으로 예치기간 대비 총 자금\n",
    "\n",
    "year = int(input(\"예치 예정기간 :\"))\n",
    "money = 10000000\n",
    "kakao_bank = 1.98\n"
   ]
  }
 ],
 "metadata": {
  "kernelspec": {
   "display_name": "Python 3 (ipykernel)",
   "language": "python",
   "name": "python3"
  },
  "language_info": {
   "codemirror_mode": {
    "name": "ipython",
    "version": 3
   },
   "file_extension": ".py",
   "mimetype": "text/x-python",
   "name": "python",
   "nbconvert_exporter": "python",
   "pygments_lexer": "ipython3",
   "version": "3.9.7"
  }
 },
 "nbformat": 4,
 "nbformat_minor": 5
}
